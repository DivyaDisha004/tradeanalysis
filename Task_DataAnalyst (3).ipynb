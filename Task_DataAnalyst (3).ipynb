{
 "cells": [
  {
   "cell_type": "code",
   "execution_count": 1,
   "id": "bf2832bc",
   "metadata": {},
   "outputs": [],
   "source": [
    "import pandas as pd\n",
    "\n",
    "df = pd.read_csv('tradelog.csv')\n",
    "\n"
   ]
  },
  {
   "cell_type": "code",
   "execution_count": 38,
   "id": "35d6a530",
   "metadata": {},
   "outputs": [],
   "source": [
    "import numpy as np"
   ]
  },
  {
   "cell_type": "code",
   "execution_count": 40,
   "id": "b66c5ba6",
   "metadata": {},
   "outputs": [],
   "source": [
    "import math"
   ]
  },
  {
   "cell_type": "code",
   "execution_count": 2,
   "id": "c77d2fba",
   "metadata": {},
   "outputs": [
    {
     "data": {
      "text/html": [
       "<div>\n",
       "<style scoped>\n",
       "    .dataframe tbody tr th:only-of-type {\n",
       "        vertical-align: middle;\n",
       "    }\n",
       "\n",
       "    .dataframe tbody tr th {\n",
       "        vertical-align: top;\n",
       "    }\n",
       "\n",
       "    .dataframe thead th {\n",
       "        text-align: right;\n",
       "    }\n",
       "</style>\n",
       "<table border=\"1\" class=\"dataframe\">\n",
       "  <thead>\n",
       "    <tr style=\"text-align: right;\">\n",
       "      <th></th>\n",
       "      <th>Unnamed: 0</th>\n",
       "      <th>Ticker</th>\n",
       "      <th>Entry Time</th>\n",
       "      <th>Entry Price</th>\n",
       "      <th>Exit Time</th>\n",
       "      <th>Exit Price</th>\n",
       "    </tr>\n",
       "  </thead>\n",
       "  <tbody>\n",
       "    <tr>\n",
       "      <th>0</th>\n",
       "      <td>1</td>\n",
       "      <td>BANKNIFTY09JUL2022800PE</td>\n",
       "      <td>08-07-2020 09:29</td>\n",
       "      <td>301.00</td>\n",
       "      <td>08-07-2020 13:15</td>\n",
       "      <td>163.50</td>\n",
       "    </tr>\n",
       "    <tr>\n",
       "      <th>1</th>\n",
       "      <td>2</td>\n",
       "      <td>BANKNIFTY09JUL2022700CE</td>\n",
       "      <td>09-07-2020 09:29</td>\n",
       "      <td>166.75</td>\n",
       "      <td>09-07-2020 10:34</td>\n",
       "      <td>162.50</td>\n",
       "    </tr>\n",
       "    <tr>\n",
       "      <th>2</th>\n",
       "      <td>3</td>\n",
       "      <td>BANKNIFTY09JUL2022700PE</td>\n",
       "      <td>09-07-2020 09:29</td>\n",
       "      <td>147.00</td>\n",
       "      <td>09-07-2020 10:34</td>\n",
       "      <td>110.55</td>\n",
       "    </tr>\n",
       "    <tr>\n",
       "      <th>3</th>\n",
       "      <td>4</td>\n",
       "      <td>BANKNIFTY16JUL2022700CE</td>\n",
       "      <td>10-07-2020 09:29</td>\n",
       "      <td>437.55</td>\n",
       "      <td>10-07-2020 15:24</td>\n",
       "      <td>295.10</td>\n",
       "    </tr>\n",
       "    <tr>\n",
       "      <th>4</th>\n",
       "      <td>5</td>\n",
       "      <td>BANKNIFTY16JUL2022700PE</td>\n",
       "      <td>10-07-2020 09:29</td>\n",
       "      <td>403.15</td>\n",
       "      <td>10-07-2020 15:24</td>\n",
       "      <td>555.20</td>\n",
       "    </tr>\n",
       "  </tbody>\n",
       "</table>\n",
       "</div>"
      ],
      "text/plain": [
       "   Unnamed: 0                   Ticker        Entry Time  Entry Price  \\\n",
       "0           1  BANKNIFTY09JUL2022800PE  08-07-2020 09:29       301.00   \n",
       "1           2  BANKNIFTY09JUL2022700CE  09-07-2020 09:29       166.75   \n",
       "2           3  BANKNIFTY09JUL2022700PE  09-07-2020 09:29       147.00   \n",
       "3           4  BANKNIFTY16JUL2022700CE  10-07-2020 09:29       437.55   \n",
       "4           5  BANKNIFTY16JUL2022700PE  10-07-2020 09:29       403.15   \n",
       "\n",
       "          Exit Time  Exit Price  \n",
       "0  08-07-2020 13:15      163.50  \n",
       "1  09-07-2020 10:34      162.50  \n",
       "2  09-07-2020 10:34      110.55  \n",
       "3  10-07-2020 15:24      295.10  \n",
       "4  10-07-2020 15:24      555.20  "
      ]
     },
     "execution_count": 2,
     "metadata": {},
     "output_type": "execute_result"
    }
   ],
   "source": [
    "df.head()"
   ]
  },
  {
   "cell_type": "code",
   "execution_count": 3,
   "id": "7b63c6b1",
   "metadata": {},
   "outputs": [
    {
     "data": {
      "text/html": [
       "<div>\n",
       "<style scoped>\n",
       "    .dataframe tbody tr th:only-of-type {\n",
       "        vertical-align: middle;\n",
       "    }\n",
       "\n",
       "    .dataframe tbody tr th {\n",
       "        vertical-align: top;\n",
       "    }\n",
       "\n",
       "    .dataframe thead th {\n",
       "        text-align: right;\n",
       "    }\n",
       "</style>\n",
       "<table border=\"1\" class=\"dataframe\">\n",
       "  <thead>\n",
       "    <tr style=\"text-align: right;\">\n",
       "      <th></th>\n",
       "      <th>Unnamed: 0</th>\n",
       "      <th>Ticker</th>\n",
       "      <th>Entry Time</th>\n",
       "      <th>Entry Price</th>\n",
       "      <th>Exit Time</th>\n",
       "      <th>Exit Price</th>\n",
       "    </tr>\n",
       "  </thead>\n",
       "  <tbody>\n",
       "    <tr>\n",
       "      <th>244</th>\n",
       "      <td>245</td>\n",
       "      <td>BANKNIFTY31DEC2031300PE</td>\n",
       "      <td>29-12-2020 09:29</td>\n",
       "      <td>274.60</td>\n",
       "      <td>29-12-2020 13:10</td>\n",
       "      <td>216.65</td>\n",
       "    </tr>\n",
       "    <tr>\n",
       "      <th>245</th>\n",
       "      <td>246</td>\n",
       "      <td>BANKNIFTY31DEC2031200CE</td>\n",
       "      <td>30-12-2020 09:29</td>\n",
       "      <td>283.90</td>\n",
       "      <td>30-12-2020 10:24</td>\n",
       "      <td>248.25</td>\n",
       "    </tr>\n",
       "    <tr>\n",
       "      <th>246</th>\n",
       "      <td>247</td>\n",
       "      <td>BANKNIFTY31DEC2031200PE</td>\n",
       "      <td>30-12-2020 09:29</td>\n",
       "      <td>240.10</td>\n",
       "      <td>30-12-2020 10:24</td>\n",
       "      <td>221.70</td>\n",
       "    </tr>\n",
       "    <tr>\n",
       "      <th>247</th>\n",
       "      <td>248</td>\n",
       "      <td>BANKNIFTY31DEC2031300CE</td>\n",
       "      <td>31-12-2020 09:29</td>\n",
       "      <td>173.85</td>\n",
       "      <td>31-12-2020 10:37</td>\n",
       "      <td>161.80</td>\n",
       "    </tr>\n",
       "    <tr>\n",
       "      <th>248</th>\n",
       "      <td>249</td>\n",
       "      <td>BANKNIFTY31DEC2031300PE</td>\n",
       "      <td>31-12-2020 09:29</td>\n",
       "      <td>124.00</td>\n",
       "      <td>31-12-2020 10:37</td>\n",
       "      <td>105.05</td>\n",
       "    </tr>\n",
       "  </tbody>\n",
       "</table>\n",
       "</div>"
      ],
      "text/plain": [
       "     Unnamed: 0                   Ticker        Entry Time  Entry Price  \\\n",
       "244         245  BANKNIFTY31DEC2031300PE  29-12-2020 09:29       274.60   \n",
       "245         246  BANKNIFTY31DEC2031200CE  30-12-2020 09:29       283.90   \n",
       "246         247  BANKNIFTY31DEC2031200PE  30-12-2020 09:29       240.10   \n",
       "247         248  BANKNIFTY31DEC2031300CE  31-12-2020 09:29       173.85   \n",
       "248         249  BANKNIFTY31DEC2031300PE  31-12-2020 09:29       124.00   \n",
       "\n",
       "            Exit Time  Exit Price  \n",
       "244  29-12-2020 13:10      216.65  \n",
       "245  30-12-2020 10:24      248.25  \n",
       "246  30-12-2020 10:24      221.70  \n",
       "247  31-12-2020 10:37      161.80  \n",
       "248  31-12-2020 10:37      105.05  "
      ]
     },
     "execution_count": 3,
     "metadata": {},
     "output_type": "execute_result"
    }
   ],
   "source": [
    "df.tail()"
   ]
  },
  {
   "cell_type": "code",
   "execution_count": null,
   "id": "bedeb89f",
   "metadata": {},
   "outputs": [],
   "source": []
  },
  {
   "cell_type": "code",
   "execution_count": 4,
   "id": "ebde5a0f",
   "metadata": {},
   "outputs": [
    {
     "data": {
      "text/plain": [
       "Unnamed: 0       int64\n",
       "Ticker          object\n",
       "Entry Time      object\n",
       "Entry Price    float64\n",
       "Exit Time       object\n",
       "Exit Price     float64\n",
       "dtype: object"
      ]
     },
     "execution_count": 4,
     "metadata": {},
     "output_type": "execute_result"
    }
   ],
   "source": [
    "df.dtypes"
   ]
  },
  {
   "cell_type": "code",
   "execution_count": 5,
   "id": "a1cddd50",
   "metadata": {},
   "outputs": [],
   "source": [
    "df['Entry Time'] = pd.to_datetime(df['Entry Time'])"
   ]
  },
  {
   "cell_type": "code",
   "execution_count": 104,
   "id": "8be125f4",
   "metadata": {},
   "outputs": [
    {
     "name": "stdout",
     "output_type": "stream",
     "text": [
      "Converted Entry and Exit Time to proper datetime format for ease\n"
     ]
    }
   ],
   "source": [
    "print(\"Converted Entry and Exit Time to proper datetime format for ease\")"
   ]
  },
  {
   "cell_type": "code",
   "execution_count": 6,
   "id": "a4bf0c08",
   "metadata": {},
   "outputs": [],
   "source": [
    "df['Exit Time'] = pd.to_datetime(df['Exit Time'])"
   ]
  },
  {
   "cell_type": "code",
   "execution_count": 7,
   "id": "8a209064",
   "metadata": {},
   "outputs": [
    {
     "data": {
      "text/plain": [
       "Unnamed: 0              int64\n",
       "Ticker                 object\n",
       "Entry Time     datetime64[ns]\n",
       "Entry Price           float64\n",
       "Exit Time      datetime64[ns]\n",
       "Exit Price            float64\n",
       "dtype: object"
      ]
     },
     "execution_count": 7,
     "metadata": {},
     "output_type": "execute_result"
    }
   ],
   "source": [
    "df.dtypes"
   ]
  },
  {
   "cell_type": "code",
   "execution_count": 8,
   "id": "209d4505",
   "metadata": {},
   "outputs": [
    {
     "data": {
      "text/html": [
       "<div>\n",
       "<style scoped>\n",
       "    .dataframe tbody tr th:only-of-type {\n",
       "        vertical-align: middle;\n",
       "    }\n",
       "\n",
       "    .dataframe tbody tr th {\n",
       "        vertical-align: top;\n",
       "    }\n",
       "\n",
       "    .dataframe thead th {\n",
       "        text-align: right;\n",
       "    }\n",
       "</style>\n",
       "<table border=\"1\" class=\"dataframe\">\n",
       "  <thead>\n",
       "    <tr style=\"text-align: right;\">\n",
       "      <th></th>\n",
       "      <th>Unnamed: 0</th>\n",
       "      <th>Ticker</th>\n",
       "      <th>Entry Time</th>\n",
       "      <th>Entry Price</th>\n",
       "      <th>Exit Time</th>\n",
       "      <th>Exit Price</th>\n",
       "    </tr>\n",
       "  </thead>\n",
       "  <tbody>\n",
       "    <tr>\n",
       "      <th>0</th>\n",
       "      <td>1</td>\n",
       "      <td>BANKNIFTY09JUL2022800PE</td>\n",
       "      <td>2020-08-07 09:29:00</td>\n",
       "      <td>301.00</td>\n",
       "      <td>2020-08-07 13:15:00</td>\n",
       "      <td>163.50</td>\n",
       "    </tr>\n",
       "    <tr>\n",
       "      <th>1</th>\n",
       "      <td>2</td>\n",
       "      <td>BANKNIFTY09JUL2022700CE</td>\n",
       "      <td>2020-09-07 09:29:00</td>\n",
       "      <td>166.75</td>\n",
       "      <td>2020-09-07 10:34:00</td>\n",
       "      <td>162.50</td>\n",
       "    </tr>\n",
       "    <tr>\n",
       "      <th>2</th>\n",
       "      <td>3</td>\n",
       "      <td>BANKNIFTY09JUL2022700PE</td>\n",
       "      <td>2020-09-07 09:29:00</td>\n",
       "      <td>147.00</td>\n",
       "      <td>2020-09-07 10:34:00</td>\n",
       "      <td>110.55</td>\n",
       "    </tr>\n",
       "    <tr>\n",
       "      <th>3</th>\n",
       "      <td>4</td>\n",
       "      <td>BANKNIFTY16JUL2022700CE</td>\n",
       "      <td>2020-10-07 09:29:00</td>\n",
       "      <td>437.55</td>\n",
       "      <td>2020-10-07 15:24:00</td>\n",
       "      <td>295.10</td>\n",
       "    </tr>\n",
       "    <tr>\n",
       "      <th>4</th>\n",
       "      <td>5</td>\n",
       "      <td>BANKNIFTY16JUL2022700PE</td>\n",
       "      <td>2020-10-07 09:29:00</td>\n",
       "      <td>403.15</td>\n",
       "      <td>2020-10-07 15:24:00</td>\n",
       "      <td>555.20</td>\n",
       "    </tr>\n",
       "  </tbody>\n",
       "</table>\n",
       "</div>"
      ],
      "text/plain": [
       "   Unnamed: 0                   Ticker          Entry Time  Entry Price  \\\n",
       "0           1  BANKNIFTY09JUL2022800PE 2020-08-07 09:29:00       301.00   \n",
       "1           2  BANKNIFTY09JUL2022700CE 2020-09-07 09:29:00       166.75   \n",
       "2           3  BANKNIFTY09JUL2022700PE 2020-09-07 09:29:00       147.00   \n",
       "3           4  BANKNIFTY16JUL2022700CE 2020-10-07 09:29:00       437.55   \n",
       "4           5  BANKNIFTY16JUL2022700PE 2020-10-07 09:29:00       403.15   \n",
       "\n",
       "            Exit Time  Exit Price  \n",
       "0 2020-08-07 13:15:00      163.50  \n",
       "1 2020-09-07 10:34:00      162.50  \n",
       "2 2020-09-07 10:34:00      110.55  \n",
       "3 2020-10-07 15:24:00      295.10  \n",
       "4 2020-10-07 15:24:00      555.20  "
      ]
     },
     "execution_count": 8,
     "metadata": {},
     "output_type": "execute_result"
    }
   ],
   "source": [
    "df.head()"
   ]
  },
  {
   "cell_type": "code",
   "execution_count": 105,
   "id": "e3eae143",
   "metadata": {},
   "outputs": [
    {
     "name": "stdout",
     "output_type": "stream",
     "text": [
      "1st parameter- Total Trades\n",
      "249\n"
     ]
    }
   ],
   "source": [
    "Total_trades=df['Ticker'].count()\n",
    "print(\"1st parameter- Total Trades\")\n",
    "print(Total_trades)"
   ]
  },
  {
   "cell_type": "code",
   "execution_count": 107,
   "id": "d6616519",
   "metadata": {},
   "outputs": [
    {
     "name": "stdout",
     "output_type": "stream",
     "text": [
      "Total unique trades are\n",
      "219\n"
     ]
    }
   ],
   "source": [
    "Total_Unique_trades=df['Ticker'].nunique()\n",
    "print(\"Total unique trades are\")\n",
    "print(Total_Unique_trades)"
   ]
  },
  {
   "cell_type": "code",
   "execution_count": 11,
   "id": "ded89699",
   "metadata": {},
   "outputs": [
    {
     "data": {
      "text/html": [
       "<div>\n",
       "<style scoped>\n",
       "    .dataframe tbody tr th:only-of-type {\n",
       "        vertical-align: middle;\n",
       "    }\n",
       "\n",
       "    .dataframe tbody tr th {\n",
       "        vertical-align: top;\n",
       "    }\n",
       "\n",
       "    .dataframe thead th {\n",
       "        text-align: right;\n",
       "    }\n",
       "</style>\n",
       "<table border=\"1\" class=\"dataframe\">\n",
       "  <thead>\n",
       "    <tr style=\"text-align: right;\">\n",
       "      <th></th>\n",
       "      <th>Unnamed: 0</th>\n",
       "      <th>Ticker</th>\n",
       "      <th>Entry Time</th>\n",
       "      <th>Entry Price</th>\n",
       "      <th>Exit Time</th>\n",
       "      <th>Exit Price</th>\n",
       "      <th>Net Price</th>\n",
       "    </tr>\n",
       "  </thead>\n",
       "  <tbody>\n",
       "    <tr>\n",
       "      <th>0</th>\n",
       "      <td>1</td>\n",
       "      <td>BANKNIFTY09JUL2022800PE</td>\n",
       "      <td>2020-08-07 09:29:00</td>\n",
       "      <td>301.00</td>\n",
       "      <td>2020-08-07 13:15:00</td>\n",
       "      <td>163.50</td>\n",
       "      <td>-137.50</td>\n",
       "    </tr>\n",
       "    <tr>\n",
       "      <th>1</th>\n",
       "      <td>2</td>\n",
       "      <td>BANKNIFTY09JUL2022700CE</td>\n",
       "      <td>2020-09-07 09:29:00</td>\n",
       "      <td>166.75</td>\n",
       "      <td>2020-09-07 10:34:00</td>\n",
       "      <td>162.50</td>\n",
       "      <td>-4.25</td>\n",
       "    </tr>\n",
       "    <tr>\n",
       "      <th>2</th>\n",
       "      <td>3</td>\n",
       "      <td>BANKNIFTY09JUL2022700PE</td>\n",
       "      <td>2020-09-07 09:29:00</td>\n",
       "      <td>147.00</td>\n",
       "      <td>2020-09-07 10:34:00</td>\n",
       "      <td>110.55</td>\n",
       "      <td>-36.45</td>\n",
       "    </tr>\n",
       "    <tr>\n",
       "      <th>3</th>\n",
       "      <td>4</td>\n",
       "      <td>BANKNIFTY16JUL2022700CE</td>\n",
       "      <td>2020-10-07 09:29:00</td>\n",
       "      <td>437.55</td>\n",
       "      <td>2020-10-07 15:24:00</td>\n",
       "      <td>295.10</td>\n",
       "      <td>-142.45</td>\n",
       "    </tr>\n",
       "    <tr>\n",
       "      <th>4</th>\n",
       "      <td>5</td>\n",
       "      <td>BANKNIFTY16JUL2022700PE</td>\n",
       "      <td>2020-10-07 09:29:00</td>\n",
       "      <td>403.15</td>\n",
       "      <td>2020-10-07 15:24:00</td>\n",
       "      <td>555.20</td>\n",
       "      <td>152.05</td>\n",
       "    </tr>\n",
       "  </tbody>\n",
       "</table>\n",
       "</div>"
      ],
      "text/plain": [
       "   Unnamed: 0                   Ticker          Entry Time  Entry Price  \\\n",
       "0           1  BANKNIFTY09JUL2022800PE 2020-08-07 09:29:00       301.00   \n",
       "1           2  BANKNIFTY09JUL2022700CE 2020-09-07 09:29:00       166.75   \n",
       "2           3  BANKNIFTY09JUL2022700PE 2020-09-07 09:29:00       147.00   \n",
       "3           4  BANKNIFTY16JUL2022700CE 2020-10-07 09:29:00       437.55   \n",
       "4           5  BANKNIFTY16JUL2022700PE 2020-10-07 09:29:00       403.15   \n",
       "\n",
       "            Exit Time  Exit Price  Net Price  \n",
       "0 2020-08-07 13:15:00      163.50    -137.50  \n",
       "1 2020-09-07 10:34:00      162.50      -4.25  \n",
       "2 2020-09-07 10:34:00      110.55     -36.45  \n",
       "3 2020-10-07 15:24:00      295.10    -142.45  \n",
       "4 2020-10-07 15:24:00      555.20     152.05  "
      ]
     },
     "execution_count": 11,
     "metadata": {},
     "output_type": "execute_result"
    }
   ],
   "source": [
    "\n",
    "df[\"Net Price\"] = df[\"Exit Price\"] - df[\"Entry Price\"]\n",
    "\n",
    "df.head()"
   ]
  },
  {
   "cell_type": "code",
   "execution_count": 12,
   "id": "837d6f60",
   "metadata": {},
   "outputs": [
    {
     "data": {
      "text/html": [
       "<div>\n",
       "<style scoped>\n",
       "    .dataframe tbody tr th:only-of-type {\n",
       "        vertical-align: middle;\n",
       "    }\n",
       "\n",
       "    .dataframe tbody tr th {\n",
       "        vertical-align: top;\n",
       "    }\n",
       "\n",
       "    .dataframe thead th {\n",
       "        text-align: right;\n",
       "    }\n",
       "</style>\n",
       "<table border=\"1\" class=\"dataframe\">\n",
       "  <thead>\n",
       "    <tr style=\"text-align: right;\">\n",
       "      <th></th>\n",
       "      <th>Unnamed: 0</th>\n",
       "      <th>Ticker</th>\n",
       "      <th>Entry Time</th>\n",
       "      <th>Entry Price</th>\n",
       "      <th>Exit Time</th>\n",
       "      <th>Exit Price</th>\n",
       "      <th>Net Price</th>\n",
       "      <th>Profit</th>\n",
       "    </tr>\n",
       "  </thead>\n",
       "  <tbody>\n",
       "    <tr>\n",
       "      <th>0</th>\n",
       "      <td>1</td>\n",
       "      <td>BANKNIFTY09JUL2022800PE</td>\n",
       "      <td>2020-08-07 09:29:00</td>\n",
       "      <td>301.00</td>\n",
       "      <td>2020-08-07 13:15:00</td>\n",
       "      <td>163.50</td>\n",
       "      <td>-137.50</td>\n",
       "      <td>No</td>\n",
       "    </tr>\n",
       "    <tr>\n",
       "      <th>1</th>\n",
       "      <td>2</td>\n",
       "      <td>BANKNIFTY09JUL2022700CE</td>\n",
       "      <td>2020-09-07 09:29:00</td>\n",
       "      <td>166.75</td>\n",
       "      <td>2020-09-07 10:34:00</td>\n",
       "      <td>162.50</td>\n",
       "      <td>-4.25</td>\n",
       "      <td>No</td>\n",
       "    </tr>\n",
       "    <tr>\n",
       "      <th>2</th>\n",
       "      <td>3</td>\n",
       "      <td>BANKNIFTY09JUL2022700PE</td>\n",
       "      <td>2020-09-07 09:29:00</td>\n",
       "      <td>147.00</td>\n",
       "      <td>2020-09-07 10:34:00</td>\n",
       "      <td>110.55</td>\n",
       "      <td>-36.45</td>\n",
       "      <td>No</td>\n",
       "    </tr>\n",
       "    <tr>\n",
       "      <th>3</th>\n",
       "      <td>4</td>\n",
       "      <td>BANKNIFTY16JUL2022700CE</td>\n",
       "      <td>2020-10-07 09:29:00</td>\n",
       "      <td>437.55</td>\n",
       "      <td>2020-10-07 15:24:00</td>\n",
       "      <td>295.10</td>\n",
       "      <td>-142.45</td>\n",
       "      <td>No</td>\n",
       "    </tr>\n",
       "    <tr>\n",
       "      <th>4</th>\n",
       "      <td>5</td>\n",
       "      <td>BANKNIFTY16JUL2022700PE</td>\n",
       "      <td>2020-10-07 09:29:00</td>\n",
       "      <td>403.15</td>\n",
       "      <td>2020-10-07 15:24:00</td>\n",
       "      <td>555.20</td>\n",
       "      <td>152.05</td>\n",
       "      <td>Yes</td>\n",
       "    </tr>\n",
       "  </tbody>\n",
       "</table>\n",
       "</div>"
      ],
      "text/plain": [
       "   Unnamed: 0                   Ticker          Entry Time  Entry Price  \\\n",
       "0           1  BANKNIFTY09JUL2022800PE 2020-08-07 09:29:00       301.00   \n",
       "1           2  BANKNIFTY09JUL2022700CE 2020-09-07 09:29:00       166.75   \n",
       "2           3  BANKNIFTY09JUL2022700PE 2020-09-07 09:29:00       147.00   \n",
       "3           4  BANKNIFTY16JUL2022700CE 2020-10-07 09:29:00       437.55   \n",
       "4           5  BANKNIFTY16JUL2022700PE 2020-10-07 09:29:00       403.15   \n",
       "\n",
       "            Exit Time  Exit Price  Net Price Profit  \n",
       "0 2020-08-07 13:15:00      163.50    -137.50     No  \n",
       "1 2020-09-07 10:34:00      162.50      -4.25     No  \n",
       "2 2020-09-07 10:34:00      110.55     -36.45     No  \n",
       "3 2020-10-07 15:24:00      295.10    -142.45     No  \n",
       "4 2020-10-07 15:24:00      555.20     152.05    Yes  "
      ]
     },
     "execution_count": 12,
     "metadata": {},
     "output_type": "execute_result"
    }
   ],
   "source": [
    "df['Profit'] = df['Net Price'].apply(lambda x: 'Yes' if x > 0 else 'No')\n",
    "df.head()"
   ]
  },
  {
   "cell_type": "code",
   "execution_count": null,
   "id": "ec9c028a",
   "metadata": {},
   "outputs": [],
   "source": []
  },
  {
   "cell_type": "code",
   "execution_count": 108,
   "id": "68c8cb7b",
   "metadata": {},
   "outputs": [
    {
     "name": "stdout",
     "output_type": "stream",
     "text": [
      "2nd parameter-profitable trades\n",
      "96\n"
     ]
    }
   ],
   "source": [
    "\n",
    "Profitable_trades = len(df[df[\"Profit\"]==\"Yes\"])\n",
    "print(\"2nd parameter-profitable trades\")\n",
    "print(Profitable_trades)\n",
    "\n",
    "\n"
   ]
  },
  {
   "cell_type": "code",
   "execution_count": 109,
   "id": "06c1e3f2",
   "metadata": {},
   "outputs": [
    {
     "name": "stdout",
     "output_type": "stream",
     "text": [
      "3rd parameter-loss making trades\n",
      "153\n"
     ]
    }
   ],
   "source": [
    "loss_trades= len(df[df[\"Profit\"]==\"No\"])\n",
    "print(\"3rd parameter-loss making trades\")\n",
    "print(loss_trades)"
   ]
  },
  {
   "cell_type": "code",
   "execution_count": 110,
   "id": "1d247cb7",
   "metadata": {},
   "outputs": [
    {
     "name": "stdout",
     "output_type": "stream",
     "text": [
      "249\n",
      "96\n",
      "4th paramter-win rate\n",
      "0.3855421686746988\n"
     ]
    }
   ],
   "source": [
    "Total_trades=df['Ticker'].count()\n",
    "print(Total_trades)\n",
    "\n",
    "Profitable_trades = len(df[df[\"Profit\"]==\"Yes\"])\n",
    "print(Profitable_trades)\n",
    "win_rate = (Profitable_trades/Total_trades)\n",
    "print(\"4th paramter-win rate\")\n",
    "print(win_rate)\n"
   ]
  },
  {
   "cell_type": "code",
   "execution_count": 112,
   "id": "706082db",
   "metadata": {},
   "outputs": [
    {
     "name": "stdout",
     "output_type": "stream",
     "text": [
      "249\n",
      "10132.2\n",
      "5th parameter average profit per trade\n",
      "40.691566265060246\n"
     ]
    }
   ],
   "source": [
    "Total_trades=df['Ticker'].count()\n",
    "print(Total_trades)\n",
    "\n",
    "total_profit=df.loc[df['Profit'] == 'Yes', 'Net Price'].sum()\n",
    "print(total_profit)\n",
    "\n",
    "Average_Profit_per_trade=(total_profit/Total_trades)\n",
    "print(\"5th parameter average profit per trade\")\n",
    "print(Average_Profit_per_trade)\n",
    "\n"
   ]
  },
  {
   "cell_type": "code",
   "execution_count": 28,
   "id": "875f10b1",
   "metadata": {},
   "outputs": [
    {
     "name": "stdout",
     "output_type": "stream",
     "text": [
      "total trades = 249\n",
      "total loss= 11642.6\n",
      "Avg loss per trade 46.75742971887551\n"
     ]
    }
   ],
   "source": [
    "Total_trades=df['Ticker'].count()\n",
    "print('total trades =' , Total_trades)\n",
    "\n",
    "total_l=df.loc[df['Profit'] == 'No', 'Net Price'].sum()\n",
    "total_loss=-(total_l)\n",
    "print('total loss=',total_loss)\n",
    "\n",
    "Average_loss_per_trade=(total_loss/Total_trades)\n",
    "print('Avg loss per trade',Average_loss_per_trade)\n"
   ]
  },
  {
   "cell_type": "code",
   "execution_count": 29,
   "id": "d8131ba6",
   "metadata": {},
   "outputs": [
    {
     "name": "stdout",
     "output_type": "stream",
     "text": [
      "Risk Reward 0.8702695274251456\n"
     ]
    }
   ],
   "source": [
    "risk_reward=(Average_Profit_per_trade/Average_loss_per_trade)\n",
    "print('Risk Reward',risk_reward)"
   ]
  },
  {
   "cell_type": "code",
   "execution_count": 30,
   "id": "a20d86bf",
   "metadata": {},
   "outputs": [
    {
     "name": "stdout",
     "output_type": "stream",
     "text": [
      "Win Rate 0.3855421686746988\n"
     ]
    }
   ],
   "source": [
    "win_rate = (Profitable_trades/Total_trades)\n",
    "print('Win Rate',win_rate)"
   ]
  },
  {
   "cell_type": "code",
   "execution_count": 31,
   "id": "d48a481d",
   "metadata": {},
   "outputs": [
    {
     "name": "stdout",
     "output_type": "stream",
     "text": [
      "Loss rate 0.6144578313253012\n"
     ]
    }
   ],
   "source": [
    "loss_rate=(1-win_rate)\n",
    "print('Loss rate',loss_rate)"
   ]
  },
  {
   "cell_type": "code",
   "execution_count": 32,
   "id": "23eacecb",
   "metadata": {},
   "outputs": [
    {
     "name": "stdout",
     "output_type": "stream",
     "text": [
      "Expectancy [-13.04215415880389]\n"
     ]
    }
   ],
   "source": [
    "expectancy=[(win_rate*Average_Profit_per_trade)-(loss_rate*Average_loss_per_trade)]\n",
    "print('Expectancy',expectancy)"
   ]
  },
  {
   "cell_type": "code",
   "execution_count": 33,
   "id": "98bf1e1f",
   "metadata": {},
   "outputs": [
    {
     "name": "stdout",
     "output_type": "stream",
     "text": [
      "initial costs 73763.25\n"
     ]
    }
   ],
   "source": [
    "initial_costs = df['Entry Price'].sum()\n",
    "print('initial costs',initial_costs)"
   ]
  },
  {
   "cell_type": "code",
   "execution_count": 34,
   "id": "219fd2ae",
   "metadata": {},
   "outputs": [
    {
     "name": "stdout",
     "output_type": "stream",
     "text": [
      "Average Profit per trade 0.055165094088262444\n"
     ]
    }
   ],
   "source": [
    "arr=(Average_Profit_per_trade/initial_costs)*100\n",
    "print('Average Profit per trade',arr)"
   ]
  },
  {
   "cell_type": "code",
   "execution_count": 24,
   "id": "b9b0d7f3",
   "metadata": {},
   "outputs": [
    {
     "data": {
      "text/html": [
       "<div>\n",
       "<style scoped>\n",
       "    .dataframe tbody tr th:only-of-type {\n",
       "        vertical-align: middle;\n",
       "    }\n",
       "\n",
       "    .dataframe tbody tr th {\n",
       "        vertical-align: top;\n",
       "    }\n",
       "\n",
       "    .dataframe thead th {\n",
       "        text-align: right;\n",
       "    }\n",
       "</style>\n",
       "<table border=\"1\" class=\"dataframe\">\n",
       "  <thead>\n",
       "    <tr style=\"text-align: right;\">\n",
       "      <th></th>\n",
       "      <th>Unnamed: 0</th>\n",
       "      <th>Ticker</th>\n",
       "      <th>Entry Time</th>\n",
       "      <th>Entry Price</th>\n",
       "      <th>Exit Time</th>\n",
       "      <th>Exit Price</th>\n",
       "      <th>Net Price</th>\n",
       "      <th>Profit</th>\n",
       "      <th>ROR</th>\n",
       "    </tr>\n",
       "  </thead>\n",
       "  <tbody>\n",
       "    <tr>\n",
       "      <th>0</th>\n",
       "      <td>1</td>\n",
       "      <td>BANKNIFTY09JUL2022800PE</td>\n",
       "      <td>2020-08-07 09:29:00</td>\n",
       "      <td>301.00</td>\n",
       "      <td>2020-08-07 13:15:00</td>\n",
       "      <td>163.50</td>\n",
       "      <td>-137.50</td>\n",
       "      <td>No</td>\n",
       "      <td>-45.681063</td>\n",
       "    </tr>\n",
       "    <tr>\n",
       "      <th>1</th>\n",
       "      <td>2</td>\n",
       "      <td>BANKNIFTY09JUL2022700CE</td>\n",
       "      <td>2020-09-07 09:29:00</td>\n",
       "      <td>166.75</td>\n",
       "      <td>2020-09-07 10:34:00</td>\n",
       "      <td>162.50</td>\n",
       "      <td>-4.25</td>\n",
       "      <td>No</td>\n",
       "      <td>-2.548726</td>\n",
       "    </tr>\n",
       "    <tr>\n",
       "      <th>2</th>\n",
       "      <td>3</td>\n",
       "      <td>BANKNIFTY09JUL2022700PE</td>\n",
       "      <td>2020-09-07 09:29:00</td>\n",
       "      <td>147.00</td>\n",
       "      <td>2020-09-07 10:34:00</td>\n",
       "      <td>110.55</td>\n",
       "      <td>-36.45</td>\n",
       "      <td>No</td>\n",
       "      <td>-24.795918</td>\n",
       "    </tr>\n",
       "    <tr>\n",
       "      <th>3</th>\n",
       "      <td>4</td>\n",
       "      <td>BANKNIFTY16JUL2022700CE</td>\n",
       "      <td>2020-10-07 09:29:00</td>\n",
       "      <td>437.55</td>\n",
       "      <td>2020-10-07 15:24:00</td>\n",
       "      <td>295.10</td>\n",
       "      <td>-142.45</td>\n",
       "      <td>No</td>\n",
       "      <td>-32.556279</td>\n",
       "    </tr>\n",
       "    <tr>\n",
       "      <th>4</th>\n",
       "      <td>5</td>\n",
       "      <td>BANKNIFTY16JUL2022700PE</td>\n",
       "      <td>2020-10-07 09:29:00</td>\n",
       "      <td>403.15</td>\n",
       "      <td>2020-10-07 15:24:00</td>\n",
       "      <td>555.20</td>\n",
       "      <td>152.05</td>\n",
       "      <td>Yes</td>\n",
       "      <td>37.715491</td>\n",
       "    </tr>\n",
       "  </tbody>\n",
       "</table>\n",
       "</div>"
      ],
      "text/plain": [
       "   Unnamed: 0                   Ticker          Entry Time  Entry Price  \\\n",
       "0           1  BANKNIFTY09JUL2022800PE 2020-08-07 09:29:00       301.00   \n",
       "1           2  BANKNIFTY09JUL2022700CE 2020-09-07 09:29:00       166.75   \n",
       "2           3  BANKNIFTY09JUL2022700PE 2020-09-07 09:29:00       147.00   \n",
       "3           4  BANKNIFTY16JUL2022700CE 2020-10-07 09:29:00       437.55   \n",
       "4           5  BANKNIFTY16JUL2022700PE 2020-10-07 09:29:00       403.15   \n",
       "\n",
       "            Exit Time  Exit Price  Net Price Profit        ROR  \n",
       "0 2020-08-07 13:15:00      163.50    -137.50     No -45.681063  \n",
       "1 2020-09-07 10:34:00      162.50      -4.25     No  -2.548726  \n",
       "2 2020-09-07 10:34:00      110.55     -36.45     No -24.795918  \n",
       "3 2020-10-07 15:24:00      295.10    -142.45     No -32.556279  \n",
       "4 2020-10-07 15:24:00      555.20     152.05    Yes  37.715491  "
      ]
     },
     "execution_count": 24,
     "metadata": {},
     "output_type": "execute_result"
    }
   ],
   "source": [
    "df['ROR']=(df['Net Price']/df['Entry Price'])*100\n",
    "df.head()"
   ]
  },
  {
   "cell_type": "code",
   "execution_count": 35,
   "id": "5e0d535e",
   "metadata": {},
   "outputs": [
    {
     "name": "stdout",
     "output_type": "stream",
     "text": [
      "total ROR 3408.6789279509157\n"
     ]
    }
   ],
   "source": [
    "total_ROR=df.loc[df['Profit'] == 'Yes', 'ROR'].sum()\n",
    "print('total ROR',total_ROR)"
   ]
  },
  {
   "cell_type": "code",
   "execution_count": 36,
   "id": "2be51259",
   "metadata": {},
   "outputs": [
    {
     "name": "stdout",
     "output_type": "stream",
     "text": [
      "total ROR per trade = 13.689473606228578\n"
     ]
    }
   ],
   "source": [
    "total_ROR_per_trade=(total_ROR/Total_trades)\n",
    "print('total ROR per trade =',total_ROR_per_trade)  "
   ]
  },
  {
   "cell_type": "code",
   "execution_count": 27,
   "id": "38121991",
   "metadata": {},
   "outputs": [
    {
     "data": {
      "text/html": [
       "<div>\n",
       "<style scoped>\n",
       "    .dataframe tbody tr th:only-of-type {\n",
       "        vertical-align: middle;\n",
       "    }\n",
       "\n",
       "    .dataframe tbody tr th {\n",
       "        vertical-align: top;\n",
       "    }\n",
       "\n",
       "    .dataframe thead th {\n",
       "        text-align: right;\n",
       "    }\n",
       "</style>\n",
       "<table border=\"1\" class=\"dataframe\">\n",
       "  <thead>\n",
       "    <tr style=\"text-align: right;\">\n",
       "      <th></th>\n",
       "      <th>Unnamed: 0</th>\n",
       "      <th>Ticker</th>\n",
       "      <th>Entry Time</th>\n",
       "      <th>Entry Price</th>\n",
       "      <th>Exit Time</th>\n",
       "      <th>Exit Price</th>\n",
       "      <th>Net Price</th>\n",
       "      <th>Profit</th>\n",
       "      <th>ROR</th>\n",
       "    </tr>\n",
       "  </thead>\n",
       "  <tbody>\n",
       "    <tr>\n",
       "      <th>0</th>\n",
       "      <td>1</td>\n",
       "      <td>BANKNIFTY09JUL2022800PE</td>\n",
       "      <td>2020-08-07 09:29:00</td>\n",
       "      <td>301.00</td>\n",
       "      <td>2020-08-07 13:15:00</td>\n",
       "      <td>163.50</td>\n",
       "      <td>-137.50</td>\n",
       "      <td>No</td>\n",
       "      <td>-45.681063</td>\n",
       "    </tr>\n",
       "    <tr>\n",
       "      <th>1</th>\n",
       "      <td>2</td>\n",
       "      <td>BANKNIFTY09JUL2022700CE</td>\n",
       "      <td>2020-09-07 09:29:00</td>\n",
       "      <td>166.75</td>\n",
       "      <td>2020-09-07 10:34:00</td>\n",
       "      <td>162.50</td>\n",
       "      <td>-4.25</td>\n",
       "      <td>No</td>\n",
       "      <td>-2.548726</td>\n",
       "    </tr>\n",
       "    <tr>\n",
       "      <th>2</th>\n",
       "      <td>3</td>\n",
       "      <td>BANKNIFTY09JUL2022700PE</td>\n",
       "      <td>2020-09-07 09:29:00</td>\n",
       "      <td>147.00</td>\n",
       "      <td>2020-09-07 10:34:00</td>\n",
       "      <td>110.55</td>\n",
       "      <td>-36.45</td>\n",
       "      <td>No</td>\n",
       "      <td>-24.795918</td>\n",
       "    </tr>\n",
       "    <tr>\n",
       "      <th>3</th>\n",
       "      <td>4</td>\n",
       "      <td>BANKNIFTY16JUL2022700CE</td>\n",
       "      <td>2020-10-07 09:29:00</td>\n",
       "      <td>437.55</td>\n",
       "      <td>2020-10-07 15:24:00</td>\n",
       "      <td>295.10</td>\n",
       "      <td>-142.45</td>\n",
       "      <td>No</td>\n",
       "      <td>-32.556279</td>\n",
       "    </tr>\n",
       "    <tr>\n",
       "      <th>4</th>\n",
       "      <td>5</td>\n",
       "      <td>BANKNIFTY16JUL2022700PE</td>\n",
       "      <td>2020-10-07 09:29:00</td>\n",
       "      <td>403.15</td>\n",
       "      <td>2020-10-07 15:24:00</td>\n",
       "      <td>555.20</td>\n",
       "      <td>152.05</td>\n",
       "      <td>Yes</td>\n",
       "      <td>37.715491</td>\n",
       "    </tr>\n",
       "  </tbody>\n",
       "</table>\n",
       "</div>"
      ],
      "text/plain": [
       "   Unnamed: 0                   Ticker          Entry Time  Entry Price  \\\n",
       "0           1  BANKNIFTY09JUL2022800PE 2020-08-07 09:29:00       301.00   \n",
       "1           2  BANKNIFTY09JUL2022700CE 2020-09-07 09:29:00       166.75   \n",
       "2           3  BANKNIFTY09JUL2022700PE 2020-09-07 09:29:00       147.00   \n",
       "3           4  BANKNIFTY16JUL2022700CE 2020-10-07 09:29:00       437.55   \n",
       "4           5  BANKNIFTY16JUL2022700PE 2020-10-07 09:29:00       403.15   \n",
       "\n",
       "            Exit Time  Exit Price  Net Price Profit        ROR  \n",
       "0 2020-08-07 13:15:00      163.50    -137.50     No -45.681063  \n",
       "1 2020-09-07 10:34:00      162.50      -4.25     No  -2.548726  \n",
       "2 2020-09-07 10:34:00      110.55     -36.45     No -24.795918  \n",
       "3 2020-10-07 15:24:00      295.10    -142.45     No -32.556279  \n",
       "4 2020-10-07 15:24:00      555.20     152.05    Yes  37.715491  "
      ]
     },
     "execution_count": 27,
     "metadata": {},
     "output_type": "execute_result"
    }
   ],
   "source": [
    "df['ROR']=(df['Net Price']/df['Entry Price'])*100\n",
    "df.head()"
   ]
  },
  {
   "cell_type": "code",
   "execution_count": 39,
   "id": "5e791cfa",
   "metadata": {},
   "outputs": [
    {
     "data": {
      "text/html": [
       "<div>\n",
       "<style scoped>\n",
       "    .dataframe tbody tr th:only-of-type {\n",
       "        vertical-align: middle;\n",
       "    }\n",
       "\n",
       "    .dataframe tbody tr th {\n",
       "        vertical-align: top;\n",
       "    }\n",
       "\n",
       "    .dataframe thead th {\n",
       "        text-align: right;\n",
       "    }\n",
       "</style>\n",
       "<table border=\"1\" class=\"dataframe\">\n",
       "  <thead>\n",
       "    <tr style=\"text-align: right;\">\n",
       "      <th></th>\n",
       "      <th>Unnamed: 0</th>\n",
       "      <th>Ticker</th>\n",
       "      <th>Entry Time</th>\n",
       "      <th>Entry Price</th>\n",
       "      <th>Exit Time</th>\n",
       "      <th>Exit Price</th>\n",
       "      <th>Net Price</th>\n",
       "      <th>Profit</th>\n",
       "      <th>ROR</th>\n",
       "      <th>sd</th>\n",
       "    </tr>\n",
       "  </thead>\n",
       "  <tbody>\n",
       "    <tr>\n",
       "      <th>0</th>\n",
       "      <td>1</td>\n",
       "      <td>BANKNIFTY09JUL2022800PE</td>\n",
       "      <td>2020-08-07 09:29:00</td>\n",
       "      <td>301.00</td>\n",
       "      <td>2020-08-07 13:15:00</td>\n",
       "      <td>163.50</td>\n",
       "      <td>-137.50</td>\n",
       "      <td>No</td>\n",
       "      <td>-45.681063</td>\n",
       "      <td>3524.860632</td>\n",
       "    </tr>\n",
       "    <tr>\n",
       "      <th>1</th>\n",
       "      <td>2</td>\n",
       "      <td>BANKNIFTY09JUL2022700CE</td>\n",
       "      <td>2020-09-07 09:29:00</td>\n",
       "      <td>166.75</td>\n",
       "      <td>2020-09-07 10:34:00</td>\n",
       "      <td>162.50</td>\n",
       "      <td>-4.25</td>\n",
       "      <td>No</td>\n",
       "      <td>-2.548726</td>\n",
       "      <td>263.679115</td>\n",
       "    </tr>\n",
       "    <tr>\n",
       "      <th>2</th>\n",
       "      <td>3</td>\n",
       "      <td>BANKNIFTY09JUL2022700PE</td>\n",
       "      <td>2020-09-07 09:29:00</td>\n",
       "      <td>147.00</td>\n",
       "      <td>2020-09-07 10:34:00</td>\n",
       "      <td>110.55</td>\n",
       "      <td>-36.45</td>\n",
       "      <td>No</td>\n",
       "      <td>-24.795918</td>\n",
       "      <td>1481.125395</td>\n",
       "    </tr>\n",
       "    <tr>\n",
       "      <th>3</th>\n",
       "      <td>4</td>\n",
       "      <td>BANKNIFTY16JUL2022700CE</td>\n",
       "      <td>2020-10-07 09:29:00</td>\n",
       "      <td>437.55</td>\n",
       "      <td>2020-10-07 15:24:00</td>\n",
       "      <td>295.10</td>\n",
       "      <td>-142.45</td>\n",
       "      <td>No</td>\n",
       "      <td>-32.556279</td>\n",
       "      <td>2138.669660</td>\n",
       "    </tr>\n",
       "    <tr>\n",
       "      <th>4</th>\n",
       "      <td>5</td>\n",
       "      <td>BANKNIFTY16JUL2022700PE</td>\n",
       "      <td>2020-10-07 09:29:00</td>\n",
       "      <td>403.15</td>\n",
       "      <td>2020-10-07 15:24:00</td>\n",
       "      <td>555.20</td>\n",
       "      <td>152.05</td>\n",
       "      <td>Yes</td>\n",
       "      <td>37.715491</td>\n",
       "      <td>577.249488</td>\n",
       "    </tr>\n",
       "  </tbody>\n",
       "</table>\n",
       "</div>"
      ],
      "text/plain": [
       "   Unnamed: 0                   Ticker          Entry Time  Entry Price  \\\n",
       "0           1  BANKNIFTY09JUL2022800PE 2020-08-07 09:29:00       301.00   \n",
       "1           2  BANKNIFTY09JUL2022700CE 2020-09-07 09:29:00       166.75   \n",
       "2           3  BANKNIFTY09JUL2022700PE 2020-09-07 09:29:00       147.00   \n",
       "3           4  BANKNIFTY16JUL2022700CE 2020-10-07 09:29:00       437.55   \n",
       "4           5  BANKNIFTY16JUL2022700PE 2020-10-07 09:29:00       403.15   \n",
       "\n",
       "            Exit Time  Exit Price  Net Price Profit        ROR           sd  \n",
       "0 2020-08-07 13:15:00      163.50    -137.50     No -45.681063  3524.860632  \n",
       "1 2020-09-07 10:34:00      162.50      -4.25     No  -2.548726   263.679115  \n",
       "2 2020-09-07 10:34:00      110.55     -36.45     No -24.795918  1481.125395  \n",
       "3 2020-10-07 15:24:00      295.10    -142.45     No -32.556279  2138.669660  \n",
       "4 2020-10-07 15:24:00      555.20     152.05    Yes  37.715491   577.249488  "
      ]
     },
     "execution_count": 39,
     "metadata": {},
     "output_type": "execute_result"
    }
   ],
   "source": [
    "df['sd']= np.power((df['ROR']-total_ROR_per_trade),2)\n",
    "df.head()"
   ]
  },
  {
   "cell_type": "code",
   "execution_count": 41,
   "id": "9d61eb79",
   "metadata": {},
   "outputs": [
    {
     "name": "stdout",
     "output_type": "stream",
     "text": [
      "Standard Deviation 39.629365301525006\n"
     ]
    }
   ],
   "source": [
    "std_dev = math.sqrt((df['sd'].sum())/(Total_trades-1))\n",
    "print('Standard Deviation',std_dev)"
   ]
  },
  {
   "cell_type": "code",
   "execution_count": 43,
   "id": "b3e7d760",
   "metadata": {},
   "outputs": [
    {
     "name": "stdout",
     "output_type": "stream",
     "text": [
      "Sharpe Ratio is 86.01270552823479\n"
     ]
    }
   ],
   "source": [
    "#ANSWER 10\n",
    "Sharpe_ratio = (total_ROR-0.05)/std_dev\n",
    "print('Sharpe Ratio is', Sharpe_ratio)"
   ]
  },
  {
   "cell_type": "code",
   "execution_count": 44,
   "id": "51982dcb",
   "metadata": {},
   "outputs": [],
   "source": [
    "#ANSWER 11\n",
    "import matplotlib.pyplot as plt"
   ]
  },
  {
   "cell_type": "code",
   "execution_count": 50,
   "id": "e5d7aab9",
   "metadata": {},
   "outputs": [
    {
     "data": {
      "image/png": "[encoded data removed]",
      "text/plain": [
       "<Figure size 640x480 with 1 Axes>"
      ]
     },
     "metadata": {},
     "output_type": "display_data"
    }
   ],
   "source": [
    "# plot a line graph\n",
    "plt.plot(df[\"Net Price\"])\n",
    "#plt.text(df[\"Net Price\"])\n",
    "plt.show()"
   ]
  },
  {
   "cell_type": "code",
   "execution_count": 84,
   "id": "c0e8ecb5",
   "metadata": {},
   "outputs": [],
   "source": [
    "#df['cummulative_max']= df['Net Price'].cummax()\n",
    "#df.head(20)\n"
   ]
  },
  {
   "cell_type": "code",
   "execution_count": 85,
   "id": "a7894bea",
   "metadata": {},
   "outputs": [],
   "source": [
    "#df.drop('cummulative_max', axis=1, inplace=True)\n",
    "#df.head()\n",
    "#df.drop('cumm_max', axis=1, inplace=True)\n",
    "#df.head(2)\n"
   ]
  },
  {
   "cell_type": "code",
   "execution_count": 65,
   "id": "1b440c85",
   "metadata": {},
   "outputs": [
    {
     "data": {
      "text/html": [
       "<div>\n",
       "<style scoped>\n",
       "    .dataframe tbody tr th:only-of-type {\n",
       "        vertical-align: middle;\n",
       "    }\n",
       "\n",
       "    .dataframe tbody tr th {\n",
       "        vertical-align: top;\n",
       "    }\n",
       "\n",
       "    .dataframe thead th {\n",
       "        text-align: right;\n",
       "    }\n",
       "</style>\n",
       "<table border=\"1\" class=\"dataframe\">\n",
       "  <thead>\n",
       "    <tr style=\"text-align: right;\">\n",
       "      <th></th>\n",
       "      <th>Unnamed: 0</th>\n",
       "      <th>Ticker</th>\n",
       "      <th>Entry Time</th>\n",
       "      <th>Entry Price</th>\n",
       "      <th>Exit Time</th>\n",
       "      <th>Exit Price</th>\n",
       "      <th>Net Price</th>\n",
       "      <th>Profit</th>\n",
       "      <th>ROR</th>\n",
       "      <th>sd</th>\n",
       "      <th>cumm_sum</th>\n",
       "      <th>cumm_max</th>\n",
       "    </tr>\n",
       "  </thead>\n",
       "  <tbody>\n",
       "    <tr>\n",
       "      <th>0</th>\n",
       "      <td>1</td>\n",
       "      <td>BANKNIFTY09JUL2022800PE</td>\n",
       "      <td>2020-08-07 09:29:00</td>\n",
       "      <td>301.00</td>\n",
       "      <td>2020-08-07 13:15:00</td>\n",
       "      <td>163.50</td>\n",
       "      <td>-137.50</td>\n",
       "      <td>No</td>\n",
       "      <td>-45.681063</td>\n",
       "      <td>3524.860632</td>\n",
       "      <td>200000.0</td>\n",
       "      <td>NaN</td>\n",
       "    </tr>\n",
       "    <tr>\n",
       "      <th>1</th>\n",
       "      <td>2</td>\n",
       "      <td>BANKNIFTY09JUL2022700CE</td>\n",
       "      <td>2020-09-07 09:29:00</td>\n",
       "      <td>166.75</td>\n",
       "      <td>2020-09-07 10:34:00</td>\n",
       "      <td>162.50</td>\n",
       "      <td>-4.25</td>\n",
       "      <td>No</td>\n",
       "      <td>-2.548726</td>\n",
       "      <td>263.679115</td>\n",
       "      <td>0.0</td>\n",
       "      <td>-137.50</td>\n",
       "    </tr>\n",
       "    <tr>\n",
       "      <th>2</th>\n",
       "      <td>3</td>\n",
       "      <td>BANKNIFTY09JUL2022700PE</td>\n",
       "      <td>2020-09-07 09:29:00</td>\n",
       "      <td>147.00</td>\n",
       "      <td>2020-09-07 10:34:00</td>\n",
       "      <td>110.55</td>\n",
       "      <td>-36.45</td>\n",
       "      <td>No</td>\n",
       "      <td>-24.795918</td>\n",
       "      <td>1481.125395</td>\n",
       "      <td>NaN</td>\n",
       "      <td>-4.25</td>\n",
       "    </tr>\n",
       "    <tr>\n",
       "      <th>3</th>\n",
       "      <td>4</td>\n",
       "      <td>BANKNIFTY16JUL2022700CE</td>\n",
       "      <td>2020-10-07 09:29:00</td>\n",
       "      <td>437.55</td>\n",
       "      <td>2020-10-07 15:24:00</td>\n",
       "      <td>295.10</td>\n",
       "      <td>-142.45</td>\n",
       "      <td>No</td>\n",
       "      <td>-32.556279</td>\n",
       "      <td>2138.669660</td>\n",
       "      <td>NaN</td>\n",
       "      <td>-4.25</td>\n",
       "    </tr>\n",
       "    <tr>\n",
       "      <th>4</th>\n",
       "      <td>5</td>\n",
       "      <td>BANKNIFTY16JUL2022700PE</td>\n",
       "      <td>2020-10-07 09:29:00</td>\n",
       "      <td>403.15</td>\n",
       "      <td>2020-10-07 15:24:00</td>\n",
       "      <td>555.20</td>\n",
       "      <td>152.05</td>\n",
       "      <td>Yes</td>\n",
       "      <td>37.715491</td>\n",
       "      <td>577.249488</td>\n",
       "      <td>NaN</td>\n",
       "      <td>-4.25</td>\n",
       "    </tr>\n",
       "  </tbody>\n",
       "</table>\n",
       "</div>"
      ],
      "text/plain": [
       "   Unnamed: 0                   Ticker          Entry Time  Entry Price  \\\n",
       "0           1  BANKNIFTY09JUL2022800PE 2020-08-07 09:29:00       301.00   \n",
       "1           2  BANKNIFTY09JUL2022700CE 2020-09-07 09:29:00       166.75   \n",
       "2           3  BANKNIFTY09JUL2022700PE 2020-09-07 09:29:00       147.00   \n",
       "3           4  BANKNIFTY16JUL2022700CE 2020-10-07 09:29:00       437.55   \n",
       "4           5  BANKNIFTY16JUL2022700PE 2020-10-07 09:29:00       403.15   \n",
       "\n",
       "            Exit Time  Exit Price  Net Price Profit        ROR           sd  \\\n",
       "0 2020-08-07 13:15:00      163.50    -137.50     No -45.681063  3524.860632   \n",
       "1 2020-09-07 10:34:00      162.50      -4.25     No  -2.548726   263.679115   \n",
       "2 2020-09-07 10:34:00      110.55     -36.45     No -24.795918  1481.125395   \n",
       "3 2020-10-07 15:24:00      295.10    -142.45     No -32.556279  2138.669660   \n",
       "4 2020-10-07 15:24:00      555.20     152.05    Yes  37.715491   577.249488   \n",
       "\n",
       "   cumm_sum  cumm_max  \n",
       "0  200000.0       NaN  \n",
       "1       0.0   -137.50  \n",
       "2       NaN     -4.25  \n",
       "3       NaN     -4.25  \n",
       "4       NaN     -4.25  "
      ]
     },
     "execution_count": 65,
     "metadata": {},
     "output_type": "execute_result"
    }
   ],
   "source": [
    "df['cumm_sum'] = np.nan\n",
    "df.head()\n",
    "df.loc[0, 'cumm_sum'] = df['cumm_sum'].iloc[0]+200000\n",
    "df.loc[1, 'cumm_sum'] = 0\n",
    "df.head()\n"
   ]
  },
  {
   "cell_type": "code",
   "execution_count": 70,
   "id": "7c72367c",
   "metadata": {},
   "outputs": [
    {
     "data": {
      "text/html": [
       "<div>\n",
       "<style scoped>\n",
       "    .dataframe tbody tr th:only-of-type {\n",
       "        vertical-align: middle;\n",
       "    }\n",
       "\n",
       "    .dataframe tbody tr th {\n",
       "        vertical-align: top;\n",
       "    }\n",
       "\n",
       "    .dataframe thead th {\n",
       "        text-align: right;\n",
       "    }\n",
       "</style>\n",
       "<table border=\"1\" class=\"dataframe\">\n",
       "  <thead>\n",
       "    <tr style=\"text-align: right;\">\n",
       "      <th></th>\n",
       "      <th>Unnamed: 0</th>\n",
       "      <th>Ticker</th>\n",
       "      <th>Entry Time</th>\n",
       "      <th>Entry Price</th>\n",
       "      <th>Exit Time</th>\n",
       "      <th>Exit Price</th>\n",
       "      <th>Net Price</th>\n",
       "      <th>Profit</th>\n",
       "      <th>ROR</th>\n",
       "      <th>sd</th>\n",
       "      <th>cumm_sum</th>\n",
       "      <th>cumm_max</th>\n",
       "    </tr>\n",
       "  </thead>\n",
       "  <tbody>\n",
       "    <tr>\n",
       "      <th>0</th>\n",
       "      <td>1</td>\n",
       "      <td>BANKNIFTY09JUL2022800PE</td>\n",
       "      <td>2020-08-07 09:29:00</td>\n",
       "      <td>301.00</td>\n",
       "      <td>2020-08-07 13:15:00</td>\n",
       "      <td>163.50</td>\n",
       "      <td>-137.50</td>\n",
       "      <td>No</td>\n",
       "      <td>-45.681063</td>\n",
       "      <td>3524.860632</td>\n",
       "      <td>-137.50</td>\n",
       "      <td>NaN</td>\n",
       "    </tr>\n",
       "    <tr>\n",
       "      <th>1</th>\n",
       "      <td>2</td>\n",
       "      <td>BANKNIFTY09JUL2022700CE</td>\n",
       "      <td>2020-09-07 09:29:00</td>\n",
       "      <td>166.75</td>\n",
       "      <td>2020-09-07 10:34:00</td>\n",
       "      <td>162.50</td>\n",
       "      <td>-4.25</td>\n",
       "      <td>No</td>\n",
       "      <td>-2.548726</td>\n",
       "      <td>263.679115</td>\n",
       "      <td>-141.75</td>\n",
       "      <td>-137.50</td>\n",
       "    </tr>\n",
       "    <tr>\n",
       "      <th>2</th>\n",
       "      <td>3</td>\n",
       "      <td>BANKNIFTY09JUL2022700PE</td>\n",
       "      <td>2020-09-07 09:29:00</td>\n",
       "      <td>147.00</td>\n",
       "      <td>2020-09-07 10:34:00</td>\n",
       "      <td>110.55</td>\n",
       "      <td>-36.45</td>\n",
       "      <td>No</td>\n",
       "      <td>-24.795918</td>\n",
       "      <td>1481.125395</td>\n",
       "      <td>-178.20</td>\n",
       "      <td>-4.25</td>\n",
       "    </tr>\n",
       "  </tbody>\n",
       "</table>\n",
       "</div>"
      ],
      "text/plain": [
       "   Unnamed: 0                   Ticker          Entry Time  Entry Price  \\\n",
       "0           1  BANKNIFTY09JUL2022800PE 2020-08-07 09:29:00       301.00   \n",
       "1           2  BANKNIFTY09JUL2022700CE 2020-09-07 09:29:00       166.75   \n",
       "2           3  BANKNIFTY09JUL2022700PE 2020-09-07 09:29:00       147.00   \n",
       "\n",
       "            Exit Time  Exit Price  Net Price Profit        ROR           sd  \\\n",
       "0 2020-08-07 13:15:00      163.50    -137.50     No -45.681063  3524.860632   \n",
       "1 2020-09-07 10:34:00      162.50      -4.25     No  -2.548726   263.679115   \n",
       "2 2020-09-07 10:34:00      110.55     -36.45     No -24.795918  1481.125395   \n",
       "\n",
       "   cumm_sum  cumm_max  \n",
       "0   -137.50       NaN  \n",
       "1   -141.75   -137.50  \n",
       "2   -178.20     -4.25  "
      ]
     },
     "execution_count": 70,
     "metadata": {},
     "output_type": "execute_result"
    }
   ],
   "source": [
    "df['cumm_sum']= df['Net Price'].cumsum()\n",
    "df.head(3)\n"
   ]
  },
  {
   "cell_type": "code",
   "execution_count": 71,
   "id": "1805609f",
   "metadata": {},
   "outputs": [
    {
     "data": {
      "text/html": [
       "<div>\n",
       "<style scoped>\n",
       "    .dataframe tbody tr th:only-of-type {\n",
       "        vertical-align: middle;\n",
       "    }\n",
       "\n",
       "    .dataframe tbody tr th {\n",
       "        vertical-align: top;\n",
       "    }\n",
       "\n",
       "    .dataframe thead th {\n",
       "        text-align: right;\n",
       "    }\n",
       "</style>\n",
       "<table border=\"1\" class=\"dataframe\">\n",
       "  <thead>\n",
       "    <tr style=\"text-align: right;\">\n",
       "      <th></th>\n",
       "      <th>Unnamed: 0</th>\n",
       "      <th>Ticker</th>\n",
       "      <th>Entry Time</th>\n",
       "      <th>Entry Price</th>\n",
       "      <th>Exit Time</th>\n",
       "      <th>Exit Price</th>\n",
       "      <th>Net Price</th>\n",
       "      <th>Profit</th>\n",
       "      <th>ROR</th>\n",
       "      <th>sd</th>\n",
       "      <th>cumm_sum</th>\n",
       "      <th>cumm_max</th>\n",
       "    </tr>\n",
       "  </thead>\n",
       "  <tbody>\n",
       "    <tr>\n",
       "      <th>0</th>\n",
       "      <td>1</td>\n",
       "      <td>BANKNIFTY09JUL2022800PE</td>\n",
       "      <td>2020-08-07 09:29:00</td>\n",
       "      <td>301.00</td>\n",
       "      <td>2020-08-07 13:15:00</td>\n",
       "      <td>163.5</td>\n",
       "      <td>-137.50</td>\n",
       "      <td>No</td>\n",
       "      <td>-45.681063</td>\n",
       "      <td>3524.860632</td>\n",
       "      <td>199862.50</td>\n",
       "      <td>NaN</td>\n",
       "    </tr>\n",
       "    <tr>\n",
       "      <th>1</th>\n",
       "      <td>2</td>\n",
       "      <td>BANKNIFTY09JUL2022700CE</td>\n",
       "      <td>2020-09-07 09:29:00</td>\n",
       "      <td>166.75</td>\n",
       "      <td>2020-09-07 10:34:00</td>\n",
       "      <td>162.5</td>\n",
       "      <td>-4.25</td>\n",
       "      <td>No</td>\n",
       "      <td>-2.548726</td>\n",
       "      <td>263.679115</td>\n",
       "      <td>-141.75</td>\n",
       "      <td>-137.5</td>\n",
       "    </tr>\n",
       "  </tbody>\n",
       "</table>\n",
       "</div>"
      ],
      "text/plain": [
       "   Unnamed: 0                   Ticker          Entry Time  Entry Price  \\\n",
       "0           1  BANKNIFTY09JUL2022800PE 2020-08-07 09:29:00       301.00   \n",
       "1           2  BANKNIFTY09JUL2022700CE 2020-09-07 09:29:00       166.75   \n",
       "\n",
       "            Exit Time  Exit Price  Net Price Profit        ROR           sd  \\\n",
       "0 2020-08-07 13:15:00       163.5    -137.50     No -45.681063  3524.860632   \n",
       "1 2020-09-07 10:34:00       162.5      -4.25     No  -2.548726   263.679115   \n",
       "\n",
       "    cumm_sum  cumm_max  \n",
       "0  199862.50       NaN  \n",
       "1    -141.75    -137.5  "
      ]
     },
     "execution_count": 71,
     "metadata": {},
     "output_type": "execute_result"
    }
   ],
   "source": [
    "df.loc[0, 'cumm_sum'] = df['cumm_sum'].iloc[0]+200000\n",
    "df.head(2)"
   ]
  },
  {
   "cell_type": "code",
   "execution_count": 75,
   "id": "e9b8e292",
   "metadata": {},
   "outputs": [
    {
     "data": {
      "text/html": [
       "<div>\n",
       "<style scoped>\n",
       "    .dataframe tbody tr th:only-of-type {\n",
       "        vertical-align: middle;\n",
       "    }\n",
       "\n",
       "    .dataframe tbody tr th {\n",
       "        vertical-align: top;\n",
       "    }\n",
       "\n",
       "    .dataframe thead th {\n",
       "        text-align: right;\n",
       "    }\n",
       "</style>\n",
       "<table border=\"1\" class=\"dataframe\">\n",
       "  <thead>\n",
       "    <tr style=\"text-align: right;\">\n",
       "      <th></th>\n",
       "      <th>Unnamed: 0</th>\n",
       "      <th>Ticker</th>\n",
       "      <th>Entry Time</th>\n",
       "      <th>Entry Price</th>\n",
       "      <th>Exit Time</th>\n",
       "      <th>Exit Price</th>\n",
       "      <th>Net Price</th>\n",
       "      <th>Profit</th>\n",
       "      <th>ROR</th>\n",
       "      <th>sd</th>\n",
       "      <th>cumm_sum</th>\n",
       "      <th>cumm_sum_1</th>\n",
       "    </tr>\n",
       "  </thead>\n",
       "  <tbody>\n",
       "    <tr>\n",
       "      <th>0</th>\n",
       "      <td>1</td>\n",
       "      <td>BANKNIFTY09JUL2022800PE</td>\n",
       "      <td>2020-08-07 09:29:00</td>\n",
       "      <td>301.00</td>\n",
       "      <td>2020-08-07 13:15:00</td>\n",
       "      <td>163.50</td>\n",
       "      <td>-137.50</td>\n",
       "      <td>No</td>\n",
       "      <td>-45.681063</td>\n",
       "      <td>3524.860632</td>\n",
       "      <td>199862.50</td>\n",
       "      <td>199862.50</td>\n",
       "    </tr>\n",
       "    <tr>\n",
       "      <th>1</th>\n",
       "      <td>2</td>\n",
       "      <td>BANKNIFTY09JUL2022700CE</td>\n",
       "      <td>2020-09-07 09:29:00</td>\n",
       "      <td>166.75</td>\n",
       "      <td>2020-09-07 10:34:00</td>\n",
       "      <td>162.50</td>\n",
       "      <td>-4.25</td>\n",
       "      <td>No</td>\n",
       "      <td>-2.548726</td>\n",
       "      <td>263.679115</td>\n",
       "      <td>-141.75</td>\n",
       "      <td>199720.75</td>\n",
       "    </tr>\n",
       "    <tr>\n",
       "      <th>2</th>\n",
       "      <td>3</td>\n",
       "      <td>BANKNIFTY09JUL2022700PE</td>\n",
       "      <td>2020-09-07 09:29:00</td>\n",
       "      <td>147.00</td>\n",
       "      <td>2020-09-07 10:34:00</td>\n",
       "      <td>110.55</td>\n",
       "      <td>-36.45</td>\n",
       "      <td>No</td>\n",
       "      <td>-24.795918</td>\n",
       "      <td>1481.125395</td>\n",
       "      <td>-178.20</td>\n",
       "      <td>199542.55</td>\n",
       "    </tr>\n",
       "    <tr>\n",
       "      <th>3</th>\n",
       "      <td>4</td>\n",
       "      <td>BANKNIFTY16JUL2022700CE</td>\n",
       "      <td>2020-10-07 09:29:00</td>\n",
       "      <td>437.55</td>\n",
       "      <td>2020-10-07 15:24:00</td>\n",
       "      <td>295.10</td>\n",
       "      <td>-142.45</td>\n",
       "      <td>No</td>\n",
       "      <td>-32.556279</td>\n",
       "      <td>2138.669660</td>\n",
       "      <td>-320.65</td>\n",
       "      <td>199221.90</td>\n",
       "    </tr>\n",
       "    <tr>\n",
       "      <th>4</th>\n",
       "      <td>5</td>\n",
       "      <td>BANKNIFTY16JUL2022700PE</td>\n",
       "      <td>2020-10-07 09:29:00</td>\n",
       "      <td>403.15</td>\n",
       "      <td>2020-10-07 15:24:00</td>\n",
       "      <td>555.20</td>\n",
       "      <td>152.05</td>\n",
       "      <td>Yes</td>\n",
       "      <td>37.715491</td>\n",
       "      <td>577.249488</td>\n",
       "      <td>-168.60</td>\n",
       "      <td>199053.30</td>\n",
       "    </tr>\n",
       "  </tbody>\n",
       "</table>\n",
       "</div>"
      ],
      "text/plain": [
       "   Unnamed: 0                   Ticker          Entry Time  Entry Price  \\\n",
       "0           1  BANKNIFTY09JUL2022800PE 2020-08-07 09:29:00       301.00   \n",
       "1           2  BANKNIFTY09JUL2022700CE 2020-09-07 09:29:00       166.75   \n",
       "2           3  BANKNIFTY09JUL2022700PE 2020-09-07 09:29:00       147.00   \n",
       "3           4  BANKNIFTY16JUL2022700CE 2020-10-07 09:29:00       437.55   \n",
       "4           5  BANKNIFTY16JUL2022700PE 2020-10-07 09:29:00       403.15   \n",
       "\n",
       "            Exit Time  Exit Price  Net Price Profit        ROR           sd  \\\n",
       "0 2020-08-07 13:15:00      163.50    -137.50     No -45.681063  3524.860632   \n",
       "1 2020-09-07 10:34:00      162.50      -4.25     No  -2.548726   263.679115   \n",
       "2 2020-09-07 10:34:00      110.55     -36.45     No -24.795918  1481.125395   \n",
       "3 2020-10-07 15:24:00      295.10    -142.45     No -32.556279  2138.669660   \n",
       "4 2020-10-07 15:24:00      555.20     152.05    Yes  37.715491   577.249488   \n",
       "\n",
       "    cumm_sum  cumm_sum_1  \n",
       "0  199862.50   199862.50  \n",
       "1    -141.75   199720.75  \n",
       "2    -178.20   199542.55  \n",
       "3    -320.65   199221.90  \n",
       "4    -168.60   199053.30  "
      ]
     },
     "execution_count": 75,
     "metadata": {},
     "output_type": "execute_result"
    }
   ],
   "source": [
    "df['cumm_sum_1']=df['cumm_sum'].cumsum()\n",
    "df.head()"
   ]
  },
  {
   "cell_type": "code",
   "execution_count": 96,
   "id": "ec8bcc41",
   "metadata": {},
   "outputs": [
    {
     "data": {
      "text/html": [
       "<div>\n",
       "<style scoped>\n",
       "    .dataframe tbody tr th:only-of-type {\n",
       "        vertical-align: middle;\n",
       "    }\n",
       "\n",
       "    .dataframe tbody tr th {\n",
       "        vertical-align: top;\n",
       "    }\n",
       "\n",
       "    .dataframe thead th {\n",
       "        text-align: right;\n",
       "    }\n",
       "</style>\n",
       "<table border=\"1\" class=\"dataframe\">\n",
       "  <thead>\n",
       "    <tr style=\"text-align: right;\">\n",
       "      <th></th>\n",
       "      <th>Unnamed: 0</th>\n",
       "      <th>Ticker</th>\n",
       "      <th>Entry Time</th>\n",
       "      <th>Entry Price</th>\n",
       "      <th>Exit Time</th>\n",
       "      <th>Exit Price</th>\n",
       "      <th>Net Price</th>\n",
       "      <th>Profit</th>\n",
       "      <th>ROR</th>\n",
       "      <th>sd</th>\n",
       "      <th>cumm_sum</th>\n",
       "      <th>cumm_sum_1</th>\n",
       "      <th>cumm_max</th>\n",
       "      <th>cumm_max_2</th>\n",
       "    </tr>\n",
       "  </thead>\n",
       "  <tbody>\n",
       "    <tr>\n",
       "      <th>0</th>\n",
       "      <td>1</td>\n",
       "      <td>BANKNIFTY09JUL2022800PE</td>\n",
       "      <td>2020-08-07 09:29:00</td>\n",
       "      <td>301.00</td>\n",
       "      <td>2020-08-07 13:15:00</td>\n",
       "      <td>163.50</td>\n",
       "      <td>-137.50</td>\n",
       "      <td>No</td>\n",
       "      <td>-45.681063</td>\n",
       "      <td>3524.860632</td>\n",
       "      <td>199862.50</td>\n",
       "      <td>199862.50</td>\n",
       "      <td>199862.5</td>\n",
       "      <td>-137.50</td>\n",
       "    </tr>\n",
       "    <tr>\n",
       "      <th>1</th>\n",
       "      <td>2</td>\n",
       "      <td>BANKNIFTY09JUL2022700CE</td>\n",
       "      <td>2020-09-07 09:29:00</td>\n",
       "      <td>166.75</td>\n",
       "      <td>2020-09-07 10:34:00</td>\n",
       "      <td>162.50</td>\n",
       "      <td>-4.25</td>\n",
       "      <td>No</td>\n",
       "      <td>-2.548726</td>\n",
       "      <td>263.679115</td>\n",
       "      <td>-141.75</td>\n",
       "      <td>199720.75</td>\n",
       "      <td>199862.5</td>\n",
       "      <td>-4.25</td>\n",
       "    </tr>\n",
       "    <tr>\n",
       "      <th>2</th>\n",
       "      <td>3</td>\n",
       "      <td>BANKNIFTY09JUL2022700PE</td>\n",
       "      <td>2020-09-07 09:29:00</td>\n",
       "      <td>147.00</td>\n",
       "      <td>2020-09-07 10:34:00</td>\n",
       "      <td>110.55</td>\n",
       "      <td>-36.45</td>\n",
       "      <td>No</td>\n",
       "      <td>-24.795918</td>\n",
       "      <td>1481.125395</td>\n",
       "      <td>-178.20</td>\n",
       "      <td>199542.55</td>\n",
       "      <td>199862.5</td>\n",
       "      <td>-4.25</td>\n",
       "    </tr>\n",
       "    <tr>\n",
       "      <th>3</th>\n",
       "      <td>4</td>\n",
       "      <td>BANKNIFTY16JUL2022700CE</td>\n",
       "      <td>2020-10-07 09:29:00</td>\n",
       "      <td>437.55</td>\n",
       "      <td>2020-10-07 15:24:00</td>\n",
       "      <td>295.10</td>\n",
       "      <td>-142.45</td>\n",
       "      <td>No</td>\n",
       "      <td>-32.556279</td>\n",
       "      <td>2138.669660</td>\n",
       "      <td>-320.65</td>\n",
       "      <td>199221.90</td>\n",
       "      <td>199862.5</td>\n",
       "      <td>-4.25</td>\n",
       "    </tr>\n",
       "    <tr>\n",
       "      <th>4</th>\n",
       "      <td>5</td>\n",
       "      <td>BANKNIFTY16JUL2022700PE</td>\n",
       "      <td>2020-10-07 09:29:00</td>\n",
       "      <td>403.15</td>\n",
       "      <td>2020-10-07 15:24:00</td>\n",
       "      <td>555.20</td>\n",
       "      <td>152.05</td>\n",
       "      <td>Yes</td>\n",
       "      <td>37.715491</td>\n",
       "      <td>577.249488</td>\n",
       "      <td>-168.60</td>\n",
       "      <td>199053.30</td>\n",
       "      <td>199862.5</td>\n",
       "      <td>152.05</td>\n",
       "    </tr>\n",
       "  </tbody>\n",
       "</table>\n",
       "</div>"
      ],
      "text/plain": [
       "   Unnamed: 0                   Ticker          Entry Time  Entry Price  \\\n",
       "0           1  BANKNIFTY09JUL2022800PE 2020-08-07 09:29:00       301.00   \n",
       "1           2  BANKNIFTY09JUL2022700CE 2020-09-07 09:29:00       166.75   \n",
       "2           3  BANKNIFTY09JUL2022700PE 2020-09-07 09:29:00       147.00   \n",
       "3           4  BANKNIFTY16JUL2022700CE 2020-10-07 09:29:00       437.55   \n",
       "4           5  BANKNIFTY16JUL2022700PE 2020-10-07 09:29:00       403.15   \n",
       "\n",
       "            Exit Time  Exit Price  Net Price Profit        ROR           sd  \\\n",
       "0 2020-08-07 13:15:00      163.50    -137.50     No -45.681063  3524.860632   \n",
       "1 2020-09-07 10:34:00      162.50      -4.25     No  -2.548726   263.679115   \n",
       "2 2020-09-07 10:34:00      110.55     -36.45     No -24.795918  1481.125395   \n",
       "3 2020-10-07 15:24:00      295.10    -142.45     No -32.556279  2138.669660   \n",
       "4 2020-10-07 15:24:00      555.20     152.05    Yes  37.715491   577.249488   \n",
       "\n",
       "    cumm_sum  cumm_sum_1  cumm_max  cumm_max_2  \n",
       "0  199862.50   199862.50  199862.5     -137.50  \n",
       "1    -141.75   199720.75  199862.5       -4.25  \n",
       "2    -178.20   199542.55  199862.5       -4.25  \n",
       "3    -320.65   199221.90  199862.5       -4.25  \n",
       "4    -168.60   199053.30  199862.5      152.05  "
      ]
     },
     "execution_count": 96,
     "metadata": {},
     "output_type": "execute_result"
    }
   ],
   "source": [
    "df['cumm_max']=df['cumm_sum_1'].cummax()\n",
    "df['cumm_max_2']=df['Net Price'].cummax()\n",
    "df.head()"
   ]
  },
  {
   "cell_type": "code",
   "execution_count": 79,
   "id": "6fc9784b",
   "metadata": {},
   "outputs": [
    {
     "data": {
      "text/plain": [
       "array([199862.5])"
      ]
     },
     "execution_count": 79,
     "metadata": {},
     "output_type": "execute_result"
    }
   ],
   "source": [
    "FP=df.cumm_max.unique()"
   ]
  },
  {
   "cell_type": "code",
   "execution_count": 95,
   "id": "7f71fe31",
   "metadata": {},
   "outputs": [
    {
     "name": "stdout",
     "output_type": "stream",
     "text": [
      "MAX DRAWDOWN IS : -100.06875 %\n"
     ]
    }
   ],
   "source": [
    "#ANSWER 12\n",
    "#peak value\n",
    "PV = 200000\n",
    "#lowest value from cumm_max_2\n",
    "LP = -137.50\n",
    "max_drawdown = ((LP-PV)/PV) * 100\n",
    "print('MAX DRAWDOWN IS :' ,max_drawdown,'%')"
   ]
  },
  {
   "cell_type": "code",
   "execution_count": 92,
   "id": "14af7a74",
   "metadata": {},
   "outputs": [
    {
     "name": "stdout",
     "output_type": "stream",
     "text": [
      "123\n"
     ]
    }
   ],
   "source": [
    "#ANSWER 13\n",
    "no_of_days = df['Entry Time'].nunique()\n",
    "print(no_of_days)"
   ]
  },
  {
   "cell_type": "code",
   "execution_count": 87,
   "id": "d0b289c0",
   "metadata": {},
   "outputs": [
    {
     "name": "stdout",
     "output_type": "stream",
     "text": [
      "249\n"
     ]
    }
   ],
   "source": [
    "#The CAGR formula is equal to (Ending Value/Beginning Value) ^ (1/No. of Periods) – 1.\n",
    "rows =  len(df.axes[0])\n",
    "print(rows)"
   ]
  },
  {
   "cell_type": "code",
   "execution_count": 90,
   "id": "bd91f35b",
   "metadata": {},
   "outputs": [
    {
     "data": {
      "text/html": [
       "<div>\n",
       "<style scoped>\n",
       "    .dataframe tbody tr th:only-of-type {\n",
       "        vertical-align: middle;\n",
       "    }\n",
       "\n",
       "    .dataframe tbody tr th {\n",
       "        vertical-align: top;\n",
       "    }\n",
       "\n",
       "    .dataframe thead th {\n",
       "        text-align: right;\n",
       "    }\n",
       "</style>\n",
       "<table border=\"1\" class=\"dataframe\">\n",
       "  <thead>\n",
       "    <tr style=\"text-align: right;\">\n",
       "      <th></th>\n",
       "      <th>Unnamed: 0</th>\n",
       "      <th>Ticker</th>\n",
       "      <th>Entry Time</th>\n",
       "      <th>Entry Price</th>\n",
       "      <th>Exit Time</th>\n",
       "      <th>Exit Price</th>\n",
       "      <th>Net Price</th>\n",
       "      <th>Profit</th>\n",
       "      <th>ROR</th>\n",
       "      <th>sd</th>\n",
       "      <th>cumm_sum</th>\n",
       "      <th>cumm_sum_1</th>\n",
       "      <th>cumm_max</th>\n",
       "      <th>cumm_max_2</th>\n",
       "    </tr>\n",
       "  </thead>\n",
       "  <tbody>\n",
       "    <tr>\n",
       "      <th>247</th>\n",
       "      <td>248</td>\n",
       "      <td>BANKNIFTY31DEC2031300CE</td>\n",
       "      <td>2020-12-31 09:29:00</td>\n",
       "      <td>173.85</td>\n",
       "      <td>2020-12-31 10:37:00</td>\n",
       "      <td>161.80</td>\n",
       "      <td>-12.05</td>\n",
       "      <td>No</td>\n",
       "      <td>-6.931263</td>\n",
       "      <td>425.214761</td>\n",
       "      <td>-1491.45</td>\n",
       "      <td>86654.25</td>\n",
       "      <td>199862.5</td>\n",
       "      <td>373.7</td>\n",
       "    </tr>\n",
       "    <tr>\n",
       "      <th>248</th>\n",
       "      <td>249</td>\n",
       "      <td>BANKNIFTY31DEC2031300PE</td>\n",
       "      <td>2020-12-31 09:29:00</td>\n",
       "      <td>124.00</td>\n",
       "      <td>2020-12-31 10:37:00</td>\n",
       "      <td>105.05</td>\n",
       "      <td>-18.95</td>\n",
       "      <td>No</td>\n",
       "      <td>-15.282258</td>\n",
       "      <td>839.361236</td>\n",
       "      <td>-1510.40</td>\n",
       "      <td>85143.85</td>\n",
       "      <td>199862.5</td>\n",
       "      <td>373.7</td>\n",
       "    </tr>\n",
       "  </tbody>\n",
       "</table>\n",
       "</div>"
      ],
      "text/plain": [
       "     Unnamed: 0                   Ticker          Entry Time  Entry Price  \\\n",
       "247         248  BANKNIFTY31DEC2031300CE 2020-12-31 09:29:00       173.85   \n",
       "248         249  BANKNIFTY31DEC2031300PE 2020-12-31 09:29:00       124.00   \n",
       "\n",
       "              Exit Time  Exit Price  Net Price Profit        ROR          sd  \\\n",
       "247 2020-12-31 10:37:00      161.80     -12.05     No  -6.931263  425.214761   \n",
       "248 2020-12-31 10:37:00      105.05     -18.95     No -15.282258  839.361236   \n",
       "\n",
       "     cumm_sum  cumm_sum_1  cumm_max  cumm_max_2  \n",
       "247  -1491.45    86654.25  199862.5       373.7  \n",
       "248  -1510.40    85143.85  199862.5       373.7  "
      ]
     },
     "execution_count": 90,
     "metadata": {},
     "output_type": "execute_result"
    }
   ],
   "source": [
    "df.tail(2)"
   ]
  },
  {
   "cell_type": "code",
   "execution_count": 91,
   "id": "50baaf14",
   "metadata": {},
   "outputs": [
    {
     "name": "stdout",
     "output_type": "stream",
     "text": [
      "-137.5\n",
      "-18.950000000000003\n"
     ]
    }
   ],
   "source": [
    "BV= df.loc[0, 'Net Price']\n",
    "EV= df.loc[248, 'Net Price']\n",
    "print(BV)\n",
    "print(EV)"
   ]
  },
  {
   "cell_type": "code",
   "execution_count": 94,
   "id": "ba6f1979",
   "metadata": {},
   "outputs": [
    {
     "name": "stdout",
     "output_type": "stream",
     "text": [
      "-0.01598324792302408\n"
     ]
    }
   ],
   "source": [
    "CAGR = ((EV/BV)**(1/no_of_days))-1\n",
    "print(CAGR)"
   ]
  },
  {
   "cell_type": "code",
   "execution_count": 97,
   "id": "527b9a31",
   "metadata": {},
   "outputs": [
    {
     "data": {
      "text/plain": [
       "13.689473606228578"
      ]
     },
     "execution_count": 97,
     "metadata": {},
     "output_type": "execute_result"
    }
   ],
   "source": [
    "#ANSWER 14\n",
    "#Calmar Ratio = Average Annual Rate of Return / Maximum Drawdown\n",
    "total_ROR_per_trade"
   ]
  },
  {
   "cell_type": "code",
   "execution_count": 100,
   "id": "54bf17da",
   "metadata": {},
   "outputs": [
    {
     "name": "stdout",
     "output_type": "stream",
     "text": [
      "-3.9845231089392352\n"
     ]
    }
   ],
   "source": [
    "avg_annual_ROR = (df['ROR'].sum())/no_of_days\n",
    "print(avg_annual_ROR)"
   ]
  },
  {
   "cell_type": "code",
   "execution_count": 101,
   "id": "11f44b2a",
   "metadata": {},
   "outputs": [
    {
     "name": "stdout",
     "output_type": "stream",
     "text": [
      "CALMAR RATIO IS : 0.039817856313177045\n"
     ]
    }
   ],
   "source": [
    "Calmar_Ratio = avg_annual_ROR /max_drawdown\n",
    "print('CALMAR RATIO IS :',Calmar_Ratio)"
   ]
  },
  {
   "cell_type": "code",
   "execution_count": 103,
   "id": "6dfa8bd4",
   "metadata": {},
   "outputs": [
    {
     "name": "stdout",
     "output_type": "stream",
     "text": [
      " Calmar ratio the better with anything over 0.50 is considered to be good. A Calmar ratio of 3.0 to 5.0 is really good, our Calmar ratio is below 0.05 , hence as per the above parameter analysis, the numbers show that the Strategy is not advisable\n"
     ]
    }
   ],
   "source": [
    "print(' Calmar ratio the better with anything over 0.50 is considered to be good. A Calmar ratio of 3.0 to 5.0 is really good, our Calmar ratio is below 0.05 , hence as per the above parameter analysis, the numbers show that the Strategy is not advisable')"
   ]
  },
  {
   "cell_type": "code",
   "execution_count": null,
   "id": "9ee7cb50",
   "metadata": {},
   "outputs": [],
   "source": []
  }
 ],
 "metadata": {
  "kernelspec": {
   "display_name": "Python 3 (ipykernel)",
   "language": "python",
   "name": "python3"
  },
  "language_info": {
   "codemirror_mode": {
    "name": "ipython",
    "version": 3
   },
   "file_extension": ".py",
   "mimetype": "text/x-python",
   "name": "python",
   "nbconvert_exporter": "python",
   "pygments_lexer": "ipython3",
   "version": "3.10.9"
  }
 },
 "nbformat": 4,
 "nbformat_minor": 5
}
